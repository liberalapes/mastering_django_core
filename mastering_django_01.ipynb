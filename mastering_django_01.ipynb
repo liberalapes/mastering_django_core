{
 "cells": [
  {
   "cell_type": "markdown",
   "metadata": {},
   "source": [
    "# 장고 마스터 하기 "
   ]
  },
  {
   "cell_type": "markdown",
   "metadata": {},
   "source": [
    "## 1장. 장고 소개 및 시작하기"
   ]
  },
  {
   "cell_type": "markdown",
   "metadata": {},
   "source": [
    "### 개요"
   ]
  },
  {
   "cell_type": "markdown",
   "metadata": {},
   "source": [
    "#### 장고의 역사"
   ]
  },
  {
   "cell_type": "markdown",
   "metadata": {},
   "source": [
    "#### 장고 설치하기"
   ]
  },
  {
   "cell_type": "markdown",
   "metadata": {},
   "source": [
    "https://www.djangoproject.com/download/"
   ]
  },
  {
   "cell_type": "markdown",
   "metadata": {},
   "source": [
    "#### 파이썬 설치하기"
   ]
  },
  {
   "cell_type": "markdown",
   "metadata": {},
   "source": [
    "##### 파이썬 버전"
   ]
  },
  {
   "cell_type": "markdown",
   "metadata": {},
   "source": [
    "##### 설치"
   ]
  },
  {
   "cell_type": "markdown",
   "metadata": {},
   "source": [
    "#### 파이썬 가상 환경 설치하기"
   ]
  },
  {
   "cell_type": "code",
   "execution_count": null,
   "metadata": {},
   "outputs": [],
   "source": [
    "$ pip install virualenv # 가상환경 설치\n",
    "\n",
    "$ virtualenv {project_name} # 프로젝트 만들기\n",
    "\n",
    "$ source {pwd}/bin/activate # 프로젝트 activate 하기\n",
    " \n",
    "$ deactivate # 프로젝트 deactivate 하기"
   ]
  },
  {
   "cell_type": "markdown",
   "metadata": {},
   "source": [
    "#### 장고 설치하기"
   ]
  },
  {
   "cell_type": "markdown",
   "metadata": {},
   "source": [
    "```pip install Django=={ver}``` # 가상환경에서 장고 설치"
   ]
  },
  {
   "cell_type": "code",
   "execution_count": null,
   "metadata": {},
   "outputs": [],
   "source": [
    "$ python "
   ]
  },
  {
   "cell_type": "code",
   "execution_count": 5,
   "metadata": {},
   "outputs": [
    {
     "data": {
      "text/plain": [
       "'2.1.2'"
      ]
     },
     "execution_count": 5,
     "metadata": {},
     "output_type": "execute_result"
    }
   ],
   "source": [
    "import django\n",
    "django.get_version()"
   ]
  },
  {
   "cell_type": "markdown",
   "metadata": {},
   "source": [
    "#### 데이터베이스 설정하기"
   ]
  },
  {
   "cell_type": "markdown",
   "metadata": {},
   "source": [
    "#### 프로젝트 시작하기"
   ]
  },
  {
   "cell_type": "code",
   "execution_count": null,
   "metadata": {},
   "outputs": [],
   "source": [
    "$ django-admin startproject {root_diretory_name} # 작업 폴더 생성"
   ]
  },
  {
   "cell_type": "code",
   "execution_count": null,
   "metadata": {},
   "outputs": [],
   "source": [
    "pip-selfcheck.json\n",
    "lib/\n",
    "include/\n",
    "bin/\n",
    "{mysite}/\n",
    "        manage.py\n",
    "        {mysite}/\n",
    "                    __init__.py\n",
    "                    settings.py\n",
    "                    urls.py\n",
    "                    wsgi.py"
   ]
  },
  {
   "cell_type": "markdown",
   "metadata": {},
   "source": [
    "- 외부 {mysite} /root : 컨테이너 \n",
    "- manage.py  : 다양한 방법으로 장고 프로젝트와 상호 작용할 수 있는 명령 행 유틸리티\n",
    "- 내부 {mysite} : 파이썬 패키지\n",
    "- {mysie}/__init__.py : 파이썬에게 이 디렉터리가 파있너 패키지로 간주되어야 한다는 것을 알려주는 파일\n",
    "- {mysite} / settings.py : settings/configuration\n",
    "- {mysite} / urls.py : URL 선언\n",
    "- {mysite} / wsgi.py : WSGI 호환 웹 서버의 진입점 "
   ]
  },
  {
   "cell_type": "markdown",
   "metadata": {},
   "source": [
    "##### 장고 설정"
   ]
  },
  {
   "cell_type": "code",
   "execution_count": null,
   "metadata": {},
   "outputs": [],
   "source": [
    "- setting.py 내 셋팅\n",
    "        'django.contrib.admin' : 관리자 웹 사이트 \n",
    "        'django.contrib.auth' : 인증 시스템\n",
    "        'django.contrib.contenttypes' : 콘텐츠 유형에 대한 프레임 워크\n",
    "        'django.contrib.sessions' : 세션 프레임워크\n",
    "        'django.contrib.messages' : 메시징 프레임워크\n",
    "        'django.contrib.staticfiles' : 정적 파일을 관리하기 위한 프레임워크 "
   ]
  },
  {
   "cell_type": "code",
   "execution_count": null,
   "metadata": {},
   "outputs": [],
   "source": [
    "$python manage.py migrate # INSTALLED_APPS 설정을 보고 settings.py의 테이버 베이스 설정 및 테이블을 생성 "
   ]
  },
  {
   "cell_type": "markdown",
   "metadata": {},
   "source": [
    "##### 개발 서버"
   ]
  },
  {
   "cell_type": "code",
   "execution_count": null,
   "metadata": {},
   "outputs": [],
   "source": [
    "$python manage.py runserver # 서버 시작 "
   ]
  },
  {
   "cell_type": "code",
   "execution_count": null,
   "metadata": {},
   "outputs": [],
   "source": [
    "$pkill -f runserver # 서버 kill "
   ]
  },
  {
   "cell_type": "markdown",
   "metadata": {},
   "source": [
    "#### MVC 설계 패턴"
   ]
  },
  {
   "cell_type": "markdown",
   "metadata": {},
   "source": [
    "- Model(M) : 데이터의 모델 또는 표현, 인터페이스\n",
    "- View(V) : 모델에 대한 프레젠테이션 레이어\n",
    "- Controller(C) : 모델과 뷰 사이의 정보 흐름을 제어 "
   ]
  },
  {
   "cell_type": "markdown",
   "metadata": {},
   "source": [
    "- MTV 개발 패턴 \n",
    "    - M : Model\n",
    "    - T : Templet\n",
    "    - V : View "
   ]
  }
 ],
 "metadata": {
  "kernelspec": {
   "display_name": "Python 3",
   "language": "python",
   "name": "python3"
  },
  "language_info": {
   "codemirror_mode": {
    "name": "ipython",
    "version": 3
   },
   "file_extension": ".py",
   "mimetype": "text/x-python",
   "name": "python",
   "nbconvert_exporter": "python",
   "pygments_lexer": "ipython3",
   "version": "3.6.6"
  }
 },
 "nbformat": 4,
 "nbformat_minor": 2
}
